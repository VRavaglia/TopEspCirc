{
 "cells": [
  {
   "cell_type": "code",
   "execution_count": 4,
   "metadata": {},
   "outputs": [
    {
     "name": "stdout",
     "output_type": "stream",
     "text": [
      "(cd /home/netware/users/raposo/simulation/Comparador/spectre/schematic/netlist/ && ./runSimulation)\n"
     ]
    }
   ],
   "source": [
    "import os\n",
    "\n",
    "run_path = \"/home/netware/users/raposo/simulation/Comparador/spectre/schematic/netlist/\"\n",
    "\n",
    "run_command = \"/cds/Opus/user/SPECTRE191/tools.lnx86/bin/spectre -64 input.scs  \\\n",
    "        +escchars +log ../psf/spectre.out +inter=mpsc  \\\n",
    "        +mpssession=spectre0_13624_3 -format psfxl -raw ../psf  \\\n",
    "        +lqtimeout 900 -maxw 5 -maxn 5 -env ade\"\n",
    "\n",
    "run_command = \"./runSimulation\"\n",
    "\n",
    "full_command = \"(cd \" + run_path + \" && \" + run_command + \")\"\n",
    "print(full_command)"
   ]
  },
  {
   "cell_type": "code",
   "execution_count": 2,
   "metadata": {},
   "outputs": [
    {
     "ename": "RuntimeError",
     "evalue": "std::exception",
     "output_type": "error",
     "traceback": [
      "\u001b[0;31m---------------------------------------------------------------------------\u001b[0m",
      "\u001b[0;31mRuntimeError\u001b[0m                              Traceback (most recent call last)",
      "\u001b[0;32m<ipython-input-2-240b2c5ef2ca>\u001b[0m in \u001b[0;36m<module>\u001b[0;34m\u001b[0m\n\u001b[1;32m      6\u001b[0m \u001b[0mpsf_filename\u001b[0m \u001b[0;34m=\u001b[0m \u001b[0;34m\"/tran.tran.tran.ascii\"\u001b[0m\u001b[0;34m\u001b[0m\u001b[0;34m\u001b[0m\u001b[0m\n\u001b[1;32m      7\u001b[0m \u001b[0;34m\u001b[0m\u001b[0m\n\u001b[0;32m----> 8\u001b[0;31m \u001b[0md\u001b[0m \u001b[0;34m=\u001b[0m \u001b[0mlibpsf\u001b[0m\u001b[0;34m.\u001b[0m\u001b[0mPSFDataSet\u001b[0m\u001b[0;34m(\u001b[0m\u001b[0mpsf_path\u001b[0m \u001b[0;34m+\u001b[0m \u001b[0mpsf_filename\u001b[0m\u001b[0;34m)\u001b[0m\u001b[0;34m\u001b[0m\u001b[0;34m\u001b[0m\u001b[0m\n\u001b[0m\u001b[1;32m      9\u001b[0m \u001b[0;34m\u001b[0m\u001b[0m\n\u001b[1;32m     10\u001b[0m \u001b[0mprint\u001b[0m\u001b[0;34m(\u001b[0m\u001b[0mlist\u001b[0m\u001b[0;34m(\u001b[0m\u001b[0md\u001b[0m\u001b[0;34m.\u001b[0m\u001b[0mget_signal_names\u001b[0m\u001b[0;34m(\u001b[0m\u001b[0;34m)\u001b[0m\u001b[0;34m)\u001b[0m\u001b[0;34m)\u001b[0m\u001b[0;34m\u001b[0m\u001b[0;34m\u001b[0m\u001b[0m\n",
      "\u001b[0;31mRuntimeError\u001b[0m: std::exception"
     ]
    }
   ],
   "source": [
    "import numpy as np\n",
    "import libpsf\n",
    "\n",
    "\n",
    "psf_path = \"/home/netware/users/raposo/simulation/Comparador/spectre/schematic/psf\"\n",
    "psf_filename = \"/tran.tran.tran.ascii\"\n",
    "\n",
    "d = libpsf.PSFDataSet(psf_path + psf_filename)\n",
    "\n",
    "print(list(d.get_signal_names()))\n",
    "\n",
    "print(d.get_signal('VIN'))"
   ]
  },
  {
   "cell_type": "code",
   "execution_count": 5,
   "metadata": {},
   "outputs": [
    {
     "data": {
      "text/plain": [
       "0"
      ]
     },
     "execution_count": 5,
     "metadata": {},
     "output_type": "execute_result"
    }
   ],
   "source": [
    "from psf_utils import PSF\n",
    "from inform import Error, display\n",
    "import matplotlib.pyplot as plt\n",
    "\n",
    "psf_path = \"/home/netware/users/raposo/simulation/Comparador/spectre/schematic/psf\"\n",
    "psf_filename = \"/tran.tran.tran\"\n",
    "\n",
    "psf_convert = \"psf \" + psf_path + psf_filename + \" \" + psf_path + psf_filename + \".ascii\"\n",
    "psf_convert_full = \"(cd \" + psf_path + \" && \" + psf_convert + \")\"\n",
    "os.system(psf_convert_full)"
   ]
  },
  {
   "cell_type": "code",
   "execution_count": 6,
   "metadata": {},
   "outputs": [
    {
     "name": "stderr",
     "output_type": "stream",
     "text": [
      "ipykernel_launcher.py error:\n",
      "    /home/netware/users/raposo/simulation/Comparador/spectre/schematic/psf/tran.tran.tran.ascii(112): unknown keyword 'S'.\n",
      "        S 320 224 0 0.3 -0.000196404103060065 1.80234911246124\n",
      "        ^\n"
     ]
    },
    {
     "ename": "SystemExit",
     "evalue": "1",
     "output_type": "error",
     "traceback": [
      "An exception has occurred, use %tb to see the full traceback.\n",
      "\u001b[0;31mSystemExit\u001b[0m\u001b[0;31m:\u001b[0m 1\n"
     ]
    },
    {
     "name": "stderr",
     "output_type": "stream",
     "text": [
      "/home/netware/users/raposo/anaconda3/lib/python3.7/site-packages/IPython/core/interactiveshell.py:3275: UserWarning: To exit: use 'exit', 'quit', or Ctrl-D.\n",
      "  warn(\"To exit: use 'exit', 'quit', or Ctrl-D.\", stacklevel=1)\n"
     ]
    }
   ],
   "source": [
    "\n",
    "\n",
    "try:\n",
    "\n",
    "    psf = PSF(psf_path + psf_filename + \".ascii\")\n",
    "    out = psf.get_signal('Vout')\n",
    "\n",
    "    figure = plt.figure()\n",
    "    axes = figure.add_subplot(1,1,1)\n",
    "    axes.plot(sweep.abscissa, out.ordinate, linewidth=2, label=out.name)\n",
    "    axes.set_title('ADC Output')\n",
    "    axes.set_ylabel(f'{out.name} ({PSF.units_to_unicode(out.units)})')\n",
    "    plt.show()\n",
    "except Error as e:\n",
    "    e.terminate()"
   ]
  },
  {
   "cell_type": "code",
   "execution_count": 6,
   "metadata": {},
   "outputs": [
    {
     "data": {
      "text/plain": [
       "0"
      ]
     },
     "execution_count": 6,
     "metadata": {},
     "output_type": "execute_result"
    }
   ],
   "source": []
  },
  {
   "cell_type": "code",
   "execution_count": null,
   "metadata": {},
   "outputs": [],
   "source": [
    "def compute_fitness()\n",
    "    os.system(full_command)"
   ]
  }
 ],
 "metadata": {
  "kernelspec": {
   "display_name": "Python 3",
   "language": "python",
   "name": "python3"
  },
  "language_info": {
   "codemirror_mode": {
    "name": "ipython",
    "version": 3
   },
   "file_extension": ".py",
   "mimetype": "text/x-python",
   "name": "python",
   "nbconvert_exporter": "python",
   "pygments_lexer": "ipython3",
   "version": "3.7.1"
  }
 },
 "nbformat": 4,
 "nbformat_minor": 2
}
