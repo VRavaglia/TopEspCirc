{
 "cells": [
  {
   "cell_type": "code",
   "execution_count": 66,
   "metadata": {},
   "outputs": [],
   "source": [
    "import shutil\n",
    "import os\n",
    "\n",
    "class OceanHelper:\n",
    "    def __init__(self, ocean_dir, x_template):\n",
    "        self.ocean_dir = ocean_dir\n",
    "        self.x_template = ocean_dir + x_template\n",
    "        self.var_start = 29\n",
    "        self.output_start = 46\n",
    "        self.param_names = [\"Ln\", \"Lp\", \"Wn\", \"Wp\", \"Vbias\"]\n",
    "        self.param_sufixes = [\"n\", \"n\", \"n\", \"n\", \"\"]\n",
    "        \n",
    "    def compute_fitness(self):\n",
    "        os.system(\"ocean -restore \" + ocean_dir + \"population.ocn\")\n",
    "        \n",
    "    def create_population(self, n):\n",
    "        f = open(ocean_dir + \"population.ocn\", \"w\")\n",
    "        \n",
    "        with open(self.x_template, 'r') as file:\n",
    "            data = file.readlines()\n",
    "        \n",
    "        for i in range(0, n):\n",
    "            f.write(\"load(\\\"\" + ocean_dir + \"x_\" + str(i) + \".ocn\\\")\\n\")\n",
    "            \n",
    "            filename = ocean_dir + \"x_\" + str(i) + \".ocn\"\n",
    "            \n",
    "            new_data = data.copy()\n",
    "            \n",
    "            for j in range(0, len(data)):\n",
    "                new_data[j] = new_data[j].replace(\"_n.txt\", \"_\" + str(i) + \".txt\")\n",
    "\n",
    "            with open(filename, 'w') as file:\n",
    "                file.writelines( new_data )\n",
    "        \n",
    "        f.write(\"exit()\")\n",
    "        f.close()\n",
    "    \n",
    "    # Ordem dos parametros:\n",
    "    # params = [Ln, Lp, Wn, Wp, Vbias]\n",
    "    def update_x(self, params, n):\n",
    "        filename = ocean_dir + \"x_\" + str(n) + \".ocn\"\n",
    "        with open(filename, 'r') as file:\n",
    "            data = file.readlines()\n",
    "        \n",
    "        for i in range(0, len(self.param_names)):\n",
    "            data[i+self.var_start] = \"desVar( \\\"\" + self.param_names[i]  + \"\\\" \" + str(params[i]) + self.param_sufixes[i] + \" )\\n\"\n",
    "        \n",
    "        with open(filename, 'w') as file:\n",
    "            file.writelines( data )\n",
    "    \n",
    "    def read_response(self, waveform):\n",
    "        return\n",
    "        "
   ]
  },
  {
   "cell_type": "code",
   "execution_count": 67,
   "metadata": {},
   "outputs": [],
   "source": [
    "OH = OceanHelper('./OceanScripts/', 'x_template.ocn')\n",
    "OH.create_population(3)\n",
    "params = [180, 180, 240, 720, 1]\n",
    "params = [320, 180, 240, 720, 1]\n",
    "OH.update_x(params, 0)"
   ]
  },
  {
   "cell_type": "code",
   "execution_count": 26,
   "metadata": {},
   "outputs": [],
   "source": [
    "OH.compute_fitness()"
   ]
  }
 ],
 "metadata": {
  "kernelspec": {
   "display_name": "Python 3",
   "language": "python",
   "name": "python3"
  },
  "language_info": {
   "codemirror_mode": {
    "name": "ipython",
    "version": 3
   },
   "file_extension": ".py",
   "mimetype": "text/x-python",
   "name": "python",
   "nbconvert_exporter": "python",
   "pygments_lexer": "ipython3",
   "version": "3.7.1"
  }
 },
 "nbformat": 4,
 "nbformat_minor": 2
}
