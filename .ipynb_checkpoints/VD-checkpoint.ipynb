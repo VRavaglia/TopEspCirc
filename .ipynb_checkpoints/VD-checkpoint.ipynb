{
 "cells": [
  {
   "cell_type": "code",
   "execution_count": 2,
   "id": "f601034b-3e57-44cc-afd6-badbcc31fbc9",
   "metadata": {},
   "outputs": [
    {
     "ename": "ModuleNotFoundError",
     "evalue": "No module named 'matplotlib'",
     "output_type": "error",
     "traceback": [
      "\u001b[0;31m---------------------------------------------------------------------------\u001b[0m",
      "\u001b[0;31mModuleNotFoundError\u001b[0m                       Traceback (most recent call last)",
      "Input \u001b[0;32mIn [2]\u001b[0m, in \u001b[0;36m<cell line: 3>\u001b[0;34m()\u001b[0m\n\u001b[1;32m      1\u001b[0m \u001b[38;5;28;01mimport\u001b[39;00m \u001b[38;5;21;01mmath\u001b[39;00m\n\u001b[0;32m----> 3\u001b[0m \u001b[38;5;28;01mimport\u001b[39;00m \u001b[38;5;21;01mmatplotlib\u001b[39;00m\u001b[38;5;21;01m.\u001b[39;00m\u001b[38;5;21;01mpyplot\u001b[39;00m \u001b[38;5;28;01mas\u001b[39;00m \u001b[38;5;21;01mplt\u001b[39;00m\n\u001b[1;32m      6\u001b[0m \u001b[38;5;28;01mimport\u001b[39;00m \u001b[38;5;21;01mPySpice\u001b[39;00m\u001b[38;5;21;01m.\u001b[39;00m\u001b[38;5;21;01mLogging\u001b[39;00m\u001b[38;5;21;01m.\u001b[39;00m\u001b[38;5;21;01mLogging\u001b[39;00m \u001b[38;5;28;01mas\u001b[39;00m \u001b[38;5;21;01mLogging\u001b[39;00m\n\u001b[1;32m      7\u001b[0m logger \u001b[38;5;241m=\u001b[39m Logging\u001b[38;5;241m.\u001b[39msetup_logging()\n",
      "\u001b[0;31mModuleNotFoundError\u001b[0m: No module named 'matplotlib'"
     ]
    }
   ],
   "source": [
    "import math\n",
    "\n",
    "import matplotlib.pyplot as plt\n",
    "\n",
    "\n",
    "import PySpice.Logging.Logging as Logging\n",
    "logger = Logging.setup_logging()\n",
    "\n",
    "\n",
    "from PySpice.Probe.Plot import plot\n",
    "from PySpice.Spice.Netlist import Circuit\n",
    "from PySpice.Spice.NgSpice.Shared import NgSpiceShared\n",
    "from PySpice.Unit import *\n",
    "\n",
    "\n",
    "class MyNgSpiceShared(NgSpiceShared):\n",
    "\n",
    "\n",
    "    def __init__(self, amplitude, frequency, **kwargs):\n",
    "\n",
    "        super().__init__(**kwargs)\n",
    "\n",
    "        self._amplitude = amplitude\n",
    "        self._pulsation = float(frequency.pulsation)\n",
    "\n",
    "\n",
    "    def get_vsrc_data(self, voltage, time, node, ngspice_id):\n",
    "        self._logger.debug('ngspice_id-{} get_vsrc_data @{} node {}'.format(ngspice_id, time, node))\n",
    "        voltage[0] = self._amplitude * math.sin(self._pulsation * time)\n",
    "        return 0\n",
    "\n",
    "\n",
    "    def get_isrc_data(self, current, time, node, ngspice_id):\n",
    "        self._logger.debug('ngspice_id-{} get_isrc_data @{} node {}'.format(ngspice_id, time, node))\n",
    "        current[0] = 1.\n",
    "        return 0\n",
    "\n",
    "\n",
    "circuit = Circuit('Voltage Divider')\n",
    "\n",
    "circuit.V('input', 'input', circuit.gnd, 'dc 0 external')\n",
    "circuit.R(1, 'input', 'output', 10@u_kΩ)\n",
    "circuit.R(2, 'output', circuit.gnd, 1@u_kΩ)\n",
    "\n",
    "amplitude = 10@u_V\n",
    "frequency = 50@u_Hz\n",
    "ngspice_shared = MyNgSpiceShared(amplitude=amplitude, frequency=frequency, send_data=False)\n",
    "simulator = circuit.simulator(temperature=25, nominal_temperature=25,\n",
    "                              simulator='ngspice-shared', ngspice_shared=ngspice_shared)\n",
    "period = float(frequency.period)\n",
    "analysis = simulator.transient(step_time=period/200, end_time=period*2)\n",
    "\n",
    "\n",
    "figure1, ax = plt.subplots(figsize=(20, 10))\n",
    "ax.set_title('Voltage Divider')\n",
    "ax.set_xlabel('Time [s]')\n",
    "ax.set_ylabel('Voltage [V]')\n",
    "ax.grid()\n",
    "ax.plot(analysis.input)\n",
    "ax.plot(analysis.output)\n",
    "ax.legend(('input', 'output'), loc=(.05,.1))\n",
    "ax.set_ylim(float(-amplitude*1.1), float(amplitude*1.1))\n",
    "\n",
    "plt.tight_layout()\n",
    "plt.show()"
   ]
  }
 ],
 "metadata": {
  "kernelspec": {
   "display_name": "Python 3 (ipykernel)",
   "language": "python",
   "name": "python3"
  },
  "language_info": {
   "codemirror_mode": {
    "name": "ipython",
    "version": 3
   },
   "file_extension": ".py",
   "mimetype": "text/x-python",
   "name": "python",
   "nbconvert_exporter": "python",
   "pygments_lexer": "ipython3",
   "version": "3.10.5"
  }
 },
 "nbformat": 4,
 "nbformat_minor": 5
}
