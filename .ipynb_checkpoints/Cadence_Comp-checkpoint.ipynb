{
 "cells": [
  {
   "cell_type": "code",
   "execution_count": 5,
   "metadata": {},
   "outputs": [
    {
     "name": "stdout",
     "output_type": "stream",
     "text": [
      "(cd /home/netware/users/raposo/simulation/Comparador/spectre/schematic/netlist/ && /cds/Opus/user/SPECTRE191/tools.lnx86/bin/spectre -64 input.scs          +escchars +log ../psf/spectre.out +inter=mpsc          +mpssession=spectre0_13624_3 -format psfxl -raw ../psf          +lqtimeout 900 -maxw 5 -maxn 5 -env ade)\n"
     ]
    },
    {
     "data": {
      "text/plain": [
       "512"
      ]
     },
     "execution_count": 5,
     "metadata": {},
     "output_type": "execute_result"
    }
   ],
   "source": [
    "import os\n",
    "\n",
    "run_path = \"/home/netware/users/raposo/simulation/Comparador/spectre/schematic/netlist/\"\n",
    "\n",
    "run_command = \"/cds/Opus/user/SPECTRE191/tools.lnx86/bin/spectre -64 input.scs  \\\n",
    "        +escchars +log ../psf/spectre.out +inter=mpsc  \\\n",
    "        +mpssession=spectre0_13624_3 -format psfxl -raw ../psf  \\\n",
    "        +lqtimeout 900 -maxw 5 -maxn 5 -env ade\"\n",
    "\n",
    "run_command = \"./runSimulation\"\n",
    "\n",
    "full_command = \"(cd \" + run_path + \" && \" + run_command + \")\"\n",
    "print(full_command)\n",
    "os.system(full_command)"
   ]
  },
  {
   "cell_type": "code",
   "execution_count": null,
   "metadata": {},
   "outputs": [],
   "source": []
  }
 ],
 "metadata": {
  "kernelspec": {
   "display_name": "Python 3",
   "language": "python",
   "name": "python3"
  },
  "language_info": {
   "codemirror_mode": {
    "name": "ipython",
    "version": 3
   },
   "file_extension": ".py",
   "mimetype": "text/x-python",
   "name": "python",
   "nbconvert_exporter": "python",
   "pygments_lexer": "ipython3",
   "version": "3.7.1"
  }
 },
 "nbformat": 4,
 "nbformat_minor": 2
}
