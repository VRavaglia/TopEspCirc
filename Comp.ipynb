{
 "cells": [
  {
   "cell_type": "code",
   "execution_count": 1,
   "id": "textile-basketball",
   "metadata": {},
   "outputs": [
    {
     "name": "stdout",
     "output_type": "stream",
     "text": [
      "2022-07-10 10:21:42,535 - PySpice.Spice.Library.Library - Library.WARNING - Problem parsing ./Libs/CMOS35.lib - Bad kwarg: level = 7 MOBMOD =1.000e+00 CAPMOD =2.000e+00 NOIMOD =3.000e+00 K1     =5.9959e-01 K2     =-6.038e-02 K3     =1.103e+01 K3B    =-7.580e-01 NCH    =9.240e+16 VTH0   =-6.915e-01 VOFF   =-1.170e-01 DVT0   =1.650e+00 DVT1   =3.868e-01 DVT2   =1.659e-02 KETA   =-1.440e-02 PSCBE1 =5.000e+09 PSCBE2 =1.000e-04 DVT0W  =1.879e-01 DVT1W  =7.335e+04 DVT2W  =-6.312e-03 UA     =5.394e-10 UB     =1.053e-18 UC     =1.000e-20 U0     =1.482e+02 DSUB   =5.000e-01 ETA0   =2.480e-01 ETAB   =-3.917e-03 NFACTOR=1.214e+00 EM     =4.100e+07 PCLM   =3.184e+00 PDIBLC1=1.000e-04 PDIBLC2=1.000e-20 DROUT  =5.000e-01 A0     =5.850e-01 A1     =0.000e+00 A2     =1.000e+00 PVAG   =0.000e+00 VSAT   =1.158e+05 AGS    =2.468e-01 B0     =8.832e-08 B1     =0.000e+00 DELTA  =1.000e-02 PDIBLCB=1.000e+00 W0     =1.000e-10 DLC    =2.4500e-08 DWB    =0.000e+00 DWG    =0.000e+00 LL     =0.000e+00 LW     =0.000e+00 LWL    =0.000e+00 LLN    =1.000e+00 LWN    =1.000e+00 WL     =0.000e+00 WW     =1.894e-16 WWL    =-1.981e-21 WLN    =1.000e+00 WWN    =1.040e+00 AT     =3.300e+04 UTE    =-1.300e+00 KT1    =-5.403e-01 KT2    =2.200e-02 KT1L   =0.000e+00 UA1    =0.000e+00 UB1    =0.000e+00 UC1    =0.000e+00 PRT    =0.000e+00 CGDO   =8.600e-11 CGSO   =8.600e-11 CGBO   =1.100e-10 CGDL   =1.080e-10 CGSL   =1.080e-10 CKAPPA =6.000e-01 CF     =0.000e+00 ELM    =5.000e+00 XPART  =1.000e+00 CLC    =1.000e-15 CLE    =6.000e-01 RDSW   =1.033e+03 CDSC   =2.589e-03 CDSCB  =2.943e-04 CDSCD  =4.370e-04 PRWB   =-9.731e-02 PRWG   =1.477e-01 CIT    =0.000e+00 TOX    =7.754e-09 NGATE  =0.000e+00 NLX    =1.770e-07 ALPHA0 =0.000e+00 BETA0  =3.000e+01 AF     =1.48e+00 KF     =8.5e-27 EF     =1.000e+00 NOIA   =1.52e+18 NOIB   =7.75e+03 NOIC   =5.0e-13 LINT   =-7.130e-08 WINT   =3.4490e-08 XJ     =3.000e-07 RSH    =1.290e+02 JS     =9.000e-05 CJ     =1.360e-03 CJSW   =3.200e-10 CBD    =0.000e+00 CBS    =0.000e+00 IS     =0.000e+00 MJ     =5.600e-01 N      =1.000e+00 MJSW   =4.300e-01 PB     =1.020e+00 TT     =0.000e+00 PBSW   =1.020e+00\n"
     ]
    }
   ],
   "source": [
    "import matplotlib.pyplot as plt\n",
    "\n",
    "\n",
    "import PySpice.Logging.Logging as Logging\n",
    "logger = Logging.setup_logging()\n",
    "\n",
    "\n",
    "from PySpice.Doc.ExampleTools import find_libraries\n",
    "from PySpice.Probe.Plot import plot\n",
    "from PySpice.Spice.Library import SpiceLibrary\n",
    "from PySpice.Spice.Netlist import Circuit\n",
    "from PySpice.Unit import *\n",
    "\n",
    "\n",
    "spice_library = SpiceLibrary(\"./Libs/\")"
   ]
  },
  {
   "cell_type": "code",
   "execution_count": 2,
   "id": "czech-while",
   "metadata": {},
   "outputs": [
    {
     "ename": "KeyError",
     "evalue": "'pmos35'",
     "output_type": "error",
     "traceback": [
      "\u001b[1;31m---------------------------------------------------------------------------\u001b[0m",
      "\u001b[1;31mKeyError\u001b[0m                                  Traceback (most recent call last)",
      "\u001b[1;32m<ipython-input-2-84d6245bf862>\u001b[0m in \u001b[0;36m<module>\u001b[1;34m\u001b[0m\n\u001b[0;32m      1\u001b[0m \u001b[0mcircuit\u001b[0m \u001b[1;33m=\u001b[0m \u001b[0mCircuit\u001b[0m\u001b[1;33m(\u001b[0m\u001b[1;34m'simple comparator'\u001b[0m\u001b[1;33m)\u001b[0m\u001b[1;33m\u001b[0m\u001b[1;33m\u001b[0m\u001b[0m\n\u001b[0;32m      2\u001b[0m \u001b[1;31m# circuit.include(spice_library['MODP'])\u001b[0m\u001b[1;33m\u001b[0m\u001b[1;33m\u001b[0m\u001b[1;33m\u001b[0m\u001b[0m\n\u001b[1;32m----> 3\u001b[1;33m \u001b[0mcircuit\u001b[0m\u001b[1;33m.\u001b[0m\u001b[0minclude\u001b[0m\u001b[1;33m(\u001b[0m\u001b[0mspice_library\u001b[0m\u001b[1;33m[\u001b[0m\u001b[1;34m'pmos35'\u001b[0m\u001b[1;33m]\u001b[0m\u001b[1;33m)\u001b[0m\u001b[1;33m\u001b[0m\u001b[1;33m\u001b[0m\u001b[0m\n\u001b[0m\u001b[0;32m      4\u001b[0m \u001b[1;33m\u001b[0m\u001b[0m\n\u001b[0;32m      5\u001b[0m \u001b[1;31m# source = circuit.SinusoidalVoltageSource('input', 'inp', circuit.gnd, amplitude=10@u_V, frequency=50@u_Hz)\u001b[0m\u001b[1;33m\u001b[0m\u001b[1;33m\u001b[0m\u001b[1;33m\u001b[0m\u001b[0m\n",
      "\u001b[1;32mc:\\users\\victo\\appdata\\local\\programs\\python\\python38\\lib\\site-packages\\PySpice\\Spice\\Library.py\u001b[0m in \u001b[0;36m__getitem__\u001b[1;34m(self, name)\u001b[0m\n\u001b[0;32m    115\u001b[0m             \u001b[1;31m# print('Library {} not found in {}'.format(name, self._directory))\u001b[0m\u001b[1;33m\u001b[0m\u001b[1;33m\u001b[0m\u001b[1;33m\u001b[0m\u001b[0m\n\u001b[0;32m    116\u001b[0m             \u001b[1;31m# self._logger.warn('Library {} not found in {}'.format(name, self._directory))\u001b[0m\u001b[1;33m\u001b[0m\u001b[1;33m\u001b[0m\u001b[1;33m\u001b[0m\u001b[0m\n\u001b[1;32m--> 117\u001b[1;33m             \u001b[1;32mraise\u001b[0m \u001b[0mKeyError\u001b[0m\u001b[1;33m(\u001b[0m\u001b[0mname\u001b[0m\u001b[1;33m)\u001b[0m\u001b[1;33m\u001b[0m\u001b[1;33m\u001b[0m\u001b[0m\n\u001b[0m\u001b[0;32m    118\u001b[0m \u001b[1;33m\u001b[0m\u001b[0m\n\u001b[0;32m    119\u001b[0m     \u001b[1;31m##############################################\u001b[0m\u001b[1;33m\u001b[0m\u001b[1;33m\u001b[0m\u001b[1;33m\u001b[0m\u001b[0m\n",
      "\u001b[1;31mKeyError\u001b[0m: 'pmos35'"
     ]
    }
   ],
   "source": [
    "circuit = Circuit('simple comparator')\n",
    "# circuit.include(spice_library['MODP'])\n",
    "circuit.include(spice_library['pmos35'])\n",
    "\n",
    "# source = circuit.SinusoidalVoltageSource('input', 'inp', circuit.gnd, amplitude=10@u_V, frequency=50@u_Hz)\n",
    "# Define the DC supply voltage value\n",
    "Vdd = 1.1\n",
    "\n",
    "# Instanciate circuit elements\n",
    "Vgate = circuit.V('gate', 'gatenode', circuit.gnd, 0@u_V)\n",
    "Vdrain = circuit.V('drain', 'vdd', circuit.gnd, u_V(Vdd))\n",
    "# M <name> <drain node> <gate node> <source node> <bulk/substrate node>\n",
    "circuit.MOSFET(1, 'vdd', 'gatenode', circuit.gnd, circuit.gnd, model='pmos35')\n",
    "\n",
    "simulator = circuit.simulator(temperature=25, nominal_temperature=25)\n",
    "analysis = simulator.dc(Vgate=slice(0, Vdd, .01))"
   ]
  },
  {
   "cell_type": "code",
   "execution_count": null,
   "id": "contrary-cause",
   "metadata": {},
   "outputs": [],
   "source": [
    "\n",
    "figure, ax = plt.subplots(figsize=(20, 10))\n",
    "\n",
    "ax.plot(analysis['gatenode'], u_mA(-analysis.Vdrain))\n",
    "ax.legend('NMOS characteristic')\n",
    "ax.grid()\n",
    "ax.set_xlabel('Vgs [V]')\n",
    "ax.set_ylabel('Id [mA]')\n",
    "\n",
    "plt.tight_layout()\n",
    "plt.show()"
   ]
  }
 ],
 "metadata": {
  "kernelspec": {
   "display_name": "Python 3",
   "language": "python",
   "name": "python3"
  },
  "language_info": {
   "codemirror_mode": {
    "name": "ipython",
    "version": 3
   },
   "file_extension": ".py",
   "mimetype": "text/x-python",
   "name": "python",
   "nbconvert_exporter": "python",
   "pygments_lexer": "ipython3",
   "version": "3.8.7"
  }
 },
 "nbformat": 4,
 "nbformat_minor": 5
}
